{
 "cells": [
  {
   "cell_type": "code",
   "execution_count": 1,
   "metadata": {},
   "outputs": [],
   "source": [
    "from recon_files import Recon"
   ]
  },
  {
   "cell_type": "markdown",
   "metadata": {},
   "source": [
    "# A Recon example."
   ]
  },
  {
   "cell_type": "code",
   "execution_count": 4,
   "metadata": {},
   "outputs": [
    {
     "name": "stderr",
     "output_type": "stream",
     "text": [
      "Scraping arXiv: 100%|██████████| 32/32 [00:14<00:00,  2.24it/s]\n"
     ]
    },
    {
     "data": {
      "text/plain": [
       "(True, True)"
      ]
     },
     "execution_count": 4,
     "metadata": {},
     "output_type": "execute_result"
    }
   ],
   "source": [
    "test = Recon(\"GJ 357\")\n",
    "test.scrape_all()\n",
    "test.webb_approved, test.hst_approved"
   ]
  },
  {
   "cell_type": "code",
   "execution_count": 5,
   "metadata": {},
   "outputs": [
    {
     "data": {
      "text/plain": [
       "['TIC 67179528',\n",
       " '2MASS J16030279-2507103',\n",
       " 'WISE J160302.81-250710.5',\n",
       " 'TIC 413248763',\n",
       " 'TOI 562',\n",
       " 'Karmn J09360-216',\n",
       " 'PLX 2281.1',\n",
       " 'CSI-21-09339',\n",
       " 'CSI-21-09337',\n",
       " 'GJ   357',\n",
       " 'HIC  47103',\n",
       " 'HIP  47103',\n",
       " 'L  678-39',\n",
       " 'LFT  661',\n",
       " 'LHS  2157',\n",
       " 'LP  788-6',\n",
       " 'LPM 321',\n",
       " 'LTT  3534',\n",
       " 'NLTT 22154',\n",
       " 'PM 09337-2125',\n",
       " 'TYC 6055-1283-1',\n",
       " 'Zkh 133',\n",
       " '[RHG95]  1522',\n",
       " '2MASS J09360161-2139371',\n",
       " 'PLX 2281.10',\n",
       " 'WISEA J093601.73-213948.8',\n",
       " 'GCRV 26259',\n",
       " 'UCAC4 342-056630',\n",
       " 'StKM 2-577',\n",
       " 'PM J09360-2139',\n",
       " 'Gaia DR1 5664814198431308288',\n",
       " 'Gaia DR2 5664814198431308288']"
      ]
     },
     "execution_count": 5,
     "metadata": {},
     "output_type": "execute_result"
    }
   ],
   "source": [
    "test.aliases"
   ]
  },
  {
   "cell_type": "code",
   "execution_count": 6,
   "metadata": {},
   "outputs": [
    {
     "data": {
      "text/plain": [
       "['https://arxiv.org/pdf/1907.13215', 'https://arxiv.org/pdf/1904.12818']"
      ]
     },
     "execution_count": 6,
     "metadata": {},
     "output_type": "execute_result"
    }
   ],
   "source": [
    "test.arxiv_links"
   ]
  },
  {
   "cell_type": "code",
   "execution_count": 7,
   "metadata": {},
   "outputs": [
    {
     "data": {
      "text/plain": [
       "{'Completing A Near-Infrared Search for Very Low Mass Companions to Stars within 10 pc of the Sun': 'mast:HST/product/n6nb80040_mos.fits'}"
      ]
     },
     "execution_count": 7,
     "metadata": {},
     "output_type": "execute_result"
    }
   ],
   "source": [
    "test.hst_data"
   ]
  },
  {
   "cell_type": "code",
   "execution_count": 8,
   "metadata": {},
   "outputs": [
    {
     "data": {
      "text/plain": [
       "['NIRISS Exploration of the Atmospheric diversity of Transiting exoplanets (NEAT)']"
      ]
     },
     "execution_count": 8,
     "metadata": {},
     "output_type": "execute_result"
    }
   ],
   "source": [
    "test.webb_proposal_names"
   ]
  },
  {
   "cell_type": "code",
   "execution_count": null,
   "metadata": {},
   "outputs": [],
   "source": []
  }
 ],
 "metadata": {
  "kernelspec": {
   "display_name": "Python 3",
   "language": "python",
   "name": "python3"
  },
  "language_info": {
   "codemirror_mode": {
    "name": "ipython",
    "version": 3
   },
   "file_extension": ".py",
   "mimetype": "text/x-python",
   "name": "python",
   "nbconvert_exporter": "python",
   "pygments_lexer": "ipython3",
   "version": "3.7.6"
  }
 },
 "nbformat": 4,
 "nbformat_minor": 4
}
