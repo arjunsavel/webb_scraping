{
 "cells": [
  {
   "cell_type": "code",
   "execution_count": 3,
   "metadata": {},
   "outputs": [],
   "source": [
    "from webb_scraping import target"
   ]
  },
  {
   "cell_type": "markdown",
   "metadata": {},
   "source": [
    "# What's in the literature about my target?"
   ]
  },
  {
   "cell_type": "markdown",
   "metadata": {},
   "source": [
    "Let's say, once more, that we're interested in observing TRAPPIST-1 with JWST. To set up the answer to this proble, we again call ```target.Target``` on our target name. This instantiates a ```Target``` object, allowing us to perform scrapes relevant to our target of interest."
   ]
  },
  {
   "cell_type": "code",
   "execution_count": 4,
   "metadata": {},
   "outputs": [],
   "source": [
    "test = target.Target(\"TRAPPIST-1\")"
   ]
  },
  {
   "cell_type": "markdown",
   "metadata": {},
   "source": [
    "Given we'll be scraping a number of different sources, we can use the ```test.scrape_all``` function."
   ]
  },
  {
   "cell_type": "code",
   "execution_count": 5,
   "metadata": {},
   "outputs": [
    {
     "name": "stderr",
     "output_type": "stream",
     "text": [
      "Scraping arXiv: 100%|██████████| 10/10 [00:05<00:00,  1.87it/s]\n"
     ]
    }
   ],
   "source": [
    "test.scrape_all()"
   ]
  },
  {
   "cell_type": "markdown",
   "metadata": {},
   "source": [
    "Let's see if there are any asssociated HST or JWST proposals."
   ]
  },
  {
   "cell_type": "code",
   "execution_count": 6,
   "metadata": {},
   "outputs": [
    {
     "data": {
      "text/plain": [
       "(True, True)"
      ]
     },
     "execution_count": 6,
     "metadata": {},
     "output_type": "execute_result"
    }
   ],
   "source": [
    "test.webb_approved, test.hst_approved"
   ]
  },
  {
   "cell_type": "code",
   "execution_count": 10,
   "metadata": {},
   "outputs": [
    {
     "data": {
      "text/plain": [
       "{'Two Birds One Stone: Simultaneous Atmospheric Pre-Screening of Two Temperate Earth-Sized Exoplanets During Their Double Transit': 'mast:HST/product/id4301r4q_drz.fits',\n",
       " 'Collecting the Puzzle Pieces: Completing HSTs UV+NIR Survey of the TRAPPIST-1 System ahead of JWST': masked,\n",
       " 'A search for low-mass companions to ultracool dwarfs': 'mast:HST/product/u64tb803r_c0f.fits',\n",
       " 'Exploratory observations of the TRAPPIST-1 system: essential prelude to an immediate JWST follow-up': 'mast:HST/product/idded1p9q_drz.fits',\n",
       " 'The Mega-MUSCLES Treasury Survey: Measurements of the Ultraviolet Spectral Characteristics of Low-mass Exoplanetary Systems': 'mast:HST/product/ldlmz6010_x1dsum.fits',\n",
       " 'UV exploration of two Earth-sized planets with temperate atmospheres': masked,\n",
       " 'Confirming the Presence of an Hydrogen Exosphere around the Earth-sized Temperate Planet TRAPPIST-1c': masked,\n",
       " 'UV irradiation of the Earth-sized planets orbiting TRAPPIST-1': masked}"
      ]
     },
     "execution_count": 10,
     "metadata": {},
     "output_type": "execute_result"
    }
   ],
   "source": [
    "test.hst_data"
   ]
  },
  {
   "cell_type": "markdown",
   "metadata": {},
   "source": [
    "We can also examine what aliases exist for this target."
   ]
  },
  {
   "cell_type": "code",
   "execution_count": 7,
   "metadata": {},
   "outputs": [
    {
     "data": {
      "text/plain": [
       "['EPIC 246199087',\n",
       " 'K2-112',\n",
       " '2MUCD 12171',\n",
       " '2MASS J23062928-0502285',\n",
       " '2MASSI J2306292-050227',\n",
       " '2MASSW J2306292-050227',\n",
       " 'Gaia DR2 2635476908753563008',\n",
       " 'WISEA J230630.02-050234.1',\n",
       " 'TRAPPIST-1',\n",
       " 'EPIC 200164267']"
      ]
     },
     "execution_count": 7,
     "metadata": {},
     "output_type": "execute_result"
    }
   ],
   "source": [
    "test.aliases"
   ]
  },
  {
   "cell_type": "markdown",
   "metadata": {},
   "source": [
    "To see what arXiv articles reference our target (or its aliases), we can use ```test.arxiv_links```."
   ]
  },
  {
   "cell_type": "code",
   "execution_count": 8,
   "metadata": {},
   "outputs": [
    {
     "data": {
      "text/plain": [
       "['https://arxiv.org/pdf/1708.02200',\n",
       " 'https://arxiv.org/pdf/1706.02018',\n",
       " 'https://arxiv.org/pdf/2003.11590',\n",
       " 'https://arxiv.org/pdf/2002.10950',\n",
       " 'https://arxiv.org/pdf/2002.05892',\n",
       " 'https://arxiv.org/pdf/2002.04798',\n",
       " 'https://arxiv.org/pdf/2002.02015',\n",
       " 'https://arxiv.org/pdf/2001.11605',\n",
       " 'https://arxiv.org/pdf/2001.08946',\n",
       " 'https://arxiv.org/pdf/2001.06225',\n",
       " 'https://arxiv.org/pdf/2001.04606',\n",
       " 'https://arxiv.org/pdf/2001.01338',\n",
       " 'https://arxiv.org/pdf/1912.05749',\n",
       " 'https://arxiv.org/pdf/1912.02313',\n",
       " 'https://arxiv.org/pdf/1912.02132',\n",
       " 'https://arxiv.org/pdf/1911.09132',\n",
       " 'https://arxiv.org/pdf/1911.08878',\n",
       " 'https://arxiv.org/pdf/1911.08596',\n",
       " 'https://arxiv.org/pdf/1911.02051',\n",
       " 'https://arxiv.org/pdf/1910.09871',\n",
       " 'https://arxiv.org/pdf/1909.13859',\n",
       " 'https://arxiv.org/pdf/1909.13331',\n",
       " 'https://arxiv.org/pdf/1909.12320',\n",
       " 'https://arxiv.org/pdf/1909.09158',\n",
       " 'https://arxiv.org/pdf/1908.10873',\n",
       " 'https://arxiv.org/pdf/1908.04166',\n",
       " 'https://arxiv.org/pdf/1907.13145',\n",
       " 'https://arxiv.org/pdf/1907.06451',\n",
       " 'https://arxiv.org/pdf/1907.05710',\n",
       " 'https://arxiv.org/pdf/1907.02112',\n",
       " 'https://arxiv.org/pdf/1906.09866',\n",
       " 'https://arxiv.org/pdf/1906.06797',\n",
       " 'https://arxiv.org/pdf/1906.05250',\n",
       " 'https://arxiv.org/pdf/1906.03527',\n",
       " 'https://arxiv.org/pdf/1906.00669',\n",
       " 'https://arxiv.org/pdf/1905.12821',\n",
       " 'https://arxiv.org/pdf/1905.11419',\n",
       " 'https://arxiv.org/pdf/1905.11298',\n",
       " 'https://arxiv.org/pdf/1905.07070',\n",
       " 'https://arxiv.org/pdf/1905.06035',\n",
       " 'https://arxiv.org/pdf/1905.02560',\n",
       " 'https://arxiv.org/pdf/1905.00512',\n",
       " 'https://arxiv.org/pdf/1903.04501',\n",
       " 'https://arxiv.org/pdf/1902.08772',\n",
       " 'https://arxiv.org/pdf/1902.04026',\n",
       " 'https://arxiv.org/pdf/1902.03867',\n",
       " 'https://arxiv.org/pdf/1902.03732',\n",
       " 'https://arxiv.org/pdf/1901.04057',\n",
       " 'https://arxiv.org/pdf/1901.02747',\n",
       " 'https://arxiv.org/pdf/1901.02041',\n",
       " 'https://arxiv.org/pdf/1901.02015',\n",
       " 'https://arxiv.org/pdf/1901.00219']"
      ]
     },
     "execution_count": 8,
     "metadata": {},
     "output_type": "execute_result"
    }
   ],
   "source": [
    "test.arxiv_links"
   ]
  },
  {
   "cell_type": "code",
   "execution_count": null,
   "metadata": {},
   "outputs": [],
   "source": []
  }
 ],
 "metadata": {
  "kernelspec": {
   "display_name": "Python 3",
   "language": "python",
   "name": "python3"
  },
  "language_info": {
   "codemirror_mode": {
    "name": "ipython",
    "version": 3
   },
   "file_extension": ".py",
   "mimetype": "text/x-python",
   "name": "python",
   "nbconvert_exporter": "python",
   "pygments_lexer": "ipython3",
   "version": "3.7.6"
  }
 },
 "nbformat": 4,
 "nbformat_minor": 4
}
