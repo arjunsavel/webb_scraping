{
 "cells": [
  {
   "cell_type": "code",
   "execution_count": 3,
   "metadata": {},
   "outputs": [],
   "source": [
    "from webb_scraping import target"
   ]
  },
  {
   "cell_type": "markdown",
   "metadata": {},
   "source": [
    "# Will JWST observe my target?"
   ]
  },
  {
   "cell_type": "markdown",
   "metadata": {},
   "source": [
    "Let's say that we're interested in observing TRAPPIST-1 with JWST. To determine whether this target's already been included in an ERS or GTO proposal, we can call ```target.Target``` on our target of interest. This instantiates a ```Target``` object, allowing us to perform scrapes relevant to our target of interest."
   ]
  },
  {
   "cell_type": "code",
   "execution_count": 7,
   "metadata": {},
   "outputs": [],
   "source": [
    "test = target.Target(\"TRAPPIST-1\")"
   ]
  },
  {
   "cell_type": "markdown",
   "metadata": {},
   "source": [
    "Next, we can call ```test.scrape_webb_MAST``` to query MAST regarding this target. Note:"
   ]
  },
  {
   "cell_type": "code",
   "execution_count": 9,
   "metadata": {},
   "outputs": [
    {
     "data": {
      "text/plain": [
       "True"
      ]
     },
     "execution_count": 9,
     "metadata": {},
     "output_type": "execute_result"
    }
   ],
   "source": [
    "test.scrape_webb_MAST()\n",
    "test.webb_approved"
   ]
  },
  {
   "cell_type": "markdown",
   "metadata": {},
   "source": [
    "Because ```test.webb_approved``` returned as ```True```, there's already a GTO or ERS proposal logged for this target. Let's see what it is."
   ]
  },
  {
   "cell_type": "code",
   "execution_count": 13,
   "metadata": {},
   "outputs": [
    {
     "data": {
      "text/plain": [
       "['MIRI observations of transiting exoplanets',\n",
       " 'MIRI observations of transiting exoplanets',\n",
       " 'MIRI observations of transiting exoplanets',\n",
       " 'MIRI observations of transiting exoplanets',\n",
       " 'MIRI observations of transiting exoplanets',\n",
       " 'NIRISS Exploration of the Atmospheric diversity of Transiting exoplanets (NEAT)',\n",
       " 'NIRISS Exploration of the Atmospheric diversity of Transiting exoplanets (NEAT)',\n",
       " 'NIRISS Exploration of the Atmospheric diversity of Transiting exoplanets (NEAT)',\n",
       " 'NIRISS Exploration of the Atmospheric diversity of Transiting exoplanets (NEAT)',\n",
       " 'NIRISS Exploration of the Atmospheric diversity of Transiting exoplanets (NEAT)',\n",
       " 'NIRISS Exploration of the Atmospheric diversity of Transiting exoplanets (NEAT)',\n",
       " 'NIRISS Exploration of the Atmospheric diversity of Transiting exoplanets (NEAT)',\n",
       " 'Thermal emission from Trappist1-b',\n",
       " 'Thermal emission from Trappist1-b',\n",
       " 'Thermal emission from Trappist1-b',\n",
       " 'Thermal emission from Trappist1-b',\n",
       " 'Thermal emission from Trappist1-b',\n",
       " 'Transit Spectroscopy of TRAPPIST-1e',\n",
       " 'Transit Spectroscopy of TRAPPIST-1e',\n",
       " 'Transit Spectroscopy of TRAPPIST-1e',\n",
       " 'Transit Spectroscopy of TRAPPIST-1e',\n",
       " 'MIRI observations of transiting exoplanets',\n",
       " 'MIRI observations of transiting exoplanets',\n",
       " 'MIRI observations of transiting exoplanets',\n",
       " 'MIRI observations of transiting exoplanets',\n",
       " 'MIRI observations of transiting exoplanets',\n",
       " 'NIRISS Exploration of the Atmospheric diversity of Transiting exoplanets (NEAT)',\n",
       " 'NIRISS Exploration of the Atmospheric diversity of Transiting exoplanets (NEAT)',\n",
       " 'NIRISS Exploration of the Atmospheric diversity of Transiting exoplanets (NEAT)',\n",
       " 'NIRISS Exploration of the Atmospheric diversity of Transiting exoplanets (NEAT)',\n",
       " 'NIRISS Exploration of the Atmospheric diversity of Transiting exoplanets (NEAT)',\n",
       " 'NIRISS Exploration of the Atmospheric diversity of Transiting exoplanets (NEAT)',\n",
       " 'NIRISS Exploration of the Atmospheric diversity of Transiting exoplanets (NEAT)',\n",
       " 'Thermal emission from Trappist1-b',\n",
       " 'Thermal emission from Trappist1-b',\n",
       " 'Thermal emission from Trappist1-b',\n",
       " 'Thermal emission from Trappist1-b',\n",
       " 'Thermal emission from Trappist1-b',\n",
       " 'Transit Spectroscopy of TRAPPIST-1e',\n",
       " 'Transit Spectroscopy of TRAPPIST-1e',\n",
       " 'Transit Spectroscopy of TRAPPIST-1e',\n",
       " 'Transit Spectroscopy of TRAPPIST-1e']"
      ]
     },
     "execution_count": 13,
     "metadata": {},
     "output_type": "execute_result"
    }
   ],
   "source": [
    "test.webb_proposal_names"
   ]
  },
  {
   "cell_type": "markdown",
   "metadata": {},
   "source": [
    "Looks like a number of studies are taking relevant data!"
   ]
  },
  {
   "cell_type": "code",
   "execution_count": null,
   "metadata": {},
   "outputs": [],
   "source": []
  }
 ],
 "metadata": {
  "kernelspec": {
   "display_name": "Python 3",
   "language": "python",
   "name": "python3"
  },
  "language_info": {
   "codemirror_mode": {
    "name": "ipython",
    "version": 3
   },
   "file_extension": ".py",
   "mimetype": "text/x-python",
   "name": "python",
   "nbconvert_exporter": "python",
   "pygments_lexer": "ipython3",
   "version": "3.7.6"
  }
 },
 "nbformat": 4,
 "nbformat_minor": 4
}
