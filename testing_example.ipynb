{
 "cells": [
  {
   "cell_type": "code",
   "execution_count": 1,
   "metadata": {},
   "outputs": [],
   "source": [
    "from webb_scraping.target import Target\n",
    "from webb_scraping.calculations import *"
   ]
  },
  {
   "cell_type": "markdown",
   "metadata": {},
   "source": [
    "# A Recon example."
   ]
  },
  {
   "cell_type": "code",
   "execution_count": 19,
   "metadata": {},
   "outputs": [
    {
     "name": "stderr",
     "output_type": "stream",
     "text": [
      "Scraping arXiv: 100%|██████████| 24/24 [00:11<00:00,  2.11it/s]\n"
     ]
    },
    {
     "data": {
      "text/plain": [
       "(False, False)"
      ]
     },
     "execution_count": 19,
     "metadata": {},
     "output_type": "execute_result"
    }
   ],
   "source": [
    "test = Target('KOI-55')\n",
    "test.scrape_all()\n",
    "test.webb_approved, test.hst_approved"
   ]
  },
  {
   "cell_type": "code",
   "execution_count": 12,
   "metadata": {},
   "outputs": [
    {
     "data": {
      "text/plain": [
       "['KPD 1943+4058',\n",
       " 'Gaia DR2 2076819620539690880',\n",
       " 'KIC 5807616',\n",
       " 'UCAC2  46165657',\n",
       " 'UCAC3 263-170867',\n",
       " '2MASS J19452546+4105339',\n",
       " 'USNO-B1.0 1310-00349976',\n",
       " 'KOI-55',\n",
       " 'Kepler-70',\n",
       " 'WASP-182',\n",
       " '1SWASP J204641.58-414915.2',\n",
       " 'TYC 7971-310-1',\n",
       " '2MASS J20464156-4149151',\n",
       " 'Gaia DR1 6677909434943350400',\n",
       " 'Gaia DR2 6677909439240233472']"
      ]
     },
     "execution_count": 12,
     "metadata": {},
     "output_type": "execute_result"
    }
   ],
   "source": [
    "test.aliases"
   ]
  },
  {
   "cell_type": "code",
   "execution_count": 13,
   "metadata": {},
   "outputs": [
    {
     "data": {
      "text/plain": [
       "['https://arxiv.org/pdf/1906.03321',\n",
       " 'https://arxiv.org/pdf/1512.03855',\n",
       " 'https://arxiv.org/pdf/1312.3943',\n",
       " 'https://arxiv.org/pdf/2004.04847',\n",
       " 'https://arxiv.org/pdf/1908.01914',\n",
       " 'https://arxiv.org/pdf/1906.02663',\n",
       " 'https://arxiv.org/pdf/1905.07781',\n",
       " 'https://arxiv.org/pdf/1904.07919',\n",
       " 'https://arxiv.org/pdf/1903.01056',\n",
       " 'https://arxiv.org/pdf/1903.00015',\n",
       " 'https://arxiv.org/pdf/1810.10012',\n",
       " 'https://arxiv.org/pdf/1810.03765',\n",
       " 'https://arxiv.org/pdf/1808.02544',\n",
       " 'https://arxiv.org/pdf/1805.11395',\n",
       " 'https://arxiv.org/pdf/1805.03370',\n",
       " 'https://arxiv.org/pdf/1712.04948',\n",
       " 'https://arxiv.org/pdf/1704.05663',\n",
       " 'https://arxiv.org/pdf/1612.06409',\n",
       " 'https://arxiv.org/pdf/1608.00978',\n",
       " 'https://arxiv.org/pdf/1606.08622',\n",
       " 'https://arxiv.org/pdf/1511.06471',\n",
       " 'https://arxiv.org/pdf/1510.00008',\n",
       " 'https://arxiv.org/pdf/1508.06596',\n",
       " 'https://arxiv.org/pdf/1506.01668',\n",
       " 'https://arxiv.org/pdf/1504.06629',\n",
       " 'https://arxiv.org/pdf/1504.04029',\n",
       " 'https://arxiv.org/pdf/1503.01771',\n",
       " 'https://arxiv.org/pdf/1503.00062',\n",
       " 'https://arxiv.org/pdf/1501.02953',\n",
       " 'https://arxiv.org/pdf/1408.6606',\n",
       " 'https://arxiv.org/pdf/1402.5694',\n",
       " 'https://arxiv.org/pdf/1310.7586',\n",
       " 'https://arxiv.org/pdf/1307.0388',\n",
       " 'https://arxiv.org/pdf/1304.7503',\n",
       " 'https://arxiv.org/pdf/1303.1197',\n",
       " 'https://arxiv.org/pdf/1302.2147',\n",
       " 'https://arxiv.org/pdf/1301.0023',\n",
       " 'https://arxiv.org/pdf/1206.3872',\n",
       " 'https://arxiv.org/pdf/1206.1235',\n",
       " 'https://arxiv.org/pdf/1111.6867',\n",
       " 'https://arxiv.org/pdf/1111.6627',\n",
       " 'https://arxiv.org/pdf/1111.0299',\n",
       " 'https://arxiv.org/pdf/1106.4928',\n",
       " 'https://arxiv.org/pdf/1105.2524',\n",
       " 'https://arxiv.org/pdf/1103.3870',\n",
       " 'https://arxiv.org/pdf/1103.0141',\n",
       " 'https://arxiv.org/pdf/1012.2234',\n",
       " 'https://arxiv.org/pdf/1005.0275',\n",
       " 'https://arxiv.org/pdf/0912.1337',\n",
       " 'https://arxiv.org/pdf/astro-ph/0703660',\n",
       " 'https://arxiv.org/pdf/astro-ph/0209404',\n",
       " 'https://arxiv.org/pdf/astro-ph/0104487',\n",
       " 'https://arxiv.org/pdf/astro-ph/9904229']"
      ]
     },
     "execution_count": 13,
     "metadata": {},
     "output_type": "execute_result"
    }
   ],
   "source": [
    "test.arxiv_links"
   ]
  },
  {
   "cell_type": "code",
   "execution_count": 14,
   "metadata": {},
   "outputs": [
    {
     "data": {
      "text/plain": [
       "{}"
      ]
     },
     "execution_count": 14,
     "metadata": {},
     "output_type": "execute_result"
    }
   ],
   "source": [
    "test.hst_data"
   ]
  },
  {
   "cell_type": "code",
   "execution_count": 15,
   "metadata": {},
   "outputs": [
    {
     "data": {
      "text/plain": [
       "[]"
      ]
     },
     "execution_count": 15,
     "metadata": {},
     "output_type": "execute_result"
    }
   ],
   "source": [
    "test.webb_proposal_names"
   ]
  },
  {
   "cell_type": "code",
   "execution_count": 16,
   "metadata": {},
   "outputs": [
    {
     "name": "stdout",
     "output_type": "stream",
     "text": [
      "scale factor: 1.15. Rp: 9.538233650981306. Teq: 1481.9128189130981.               M: 47.0344. Rstar: 1.34. mj: nan. Tstar: 5638.0. a: 9.697943200000001\n",
      "> \u001b[0;32m/Users/arjunsavel/Desktop/research/atmospheres/webb_scraping/webb_scraping/calculations.py\u001b[0m(104)\u001b[0;36mTSM\u001b[0;34m()\u001b[0m\n",
      "\u001b[0;32m    102 \u001b[0;31m              M: {M}. Rstar: {rstar}. mj: {mj}. Tstar: {Tstar}. a: {a}')\n",
      "\u001b[0m\u001b[0;32m    103 \u001b[0;31m\u001b[0;31m#     ipdb.set_trace()\u001b[0m\u001b[0;34m\u001b[0m\u001b[0;34m\u001b[0m\u001b[0;34m\u001b[0m\u001b[0m\n",
      "\u001b[0m\u001b[0;32m--> 104 \u001b[0;31m    \u001b[0;32mreturn\u001b[0m \u001b[0mscale_factor\u001b[0m \u001b[0;34m*\u001b[0m \u001b[0mrp\u001b[0m\u001b[0;34m**\u001b[0m\u001b[0;36m3\u001b[0m \u001b[0;34m*\u001b[0m \u001b[0mTeq\u001b[0m \u001b[0;34m/\u001b[0m \u001b[0;34m(\u001b[0m\u001b[0mM\u001b[0m \u001b[0;34m*\u001b[0m \u001b[0mrstar\u001b[0m \u001b[0;34m**\u001b[0m\u001b[0;36m2\u001b[0m \u001b[0;34m)\u001b[0m \u001b[0;34m*\u001b[0m \u001b[0mpow\u001b[0m\u001b[0;34m(\u001b[0m\u001b[0;36m10\u001b[0m\u001b[0;34m,\u001b[0m \u001b[0;34m-\u001b[0m\u001b[0mmj\u001b[0m\u001b[0;34m/\u001b[0m\u001b[0;36m5\u001b[0m\u001b[0;34m)\u001b[0m\u001b[0;34m\u001b[0m\u001b[0;34m\u001b[0m\u001b[0m\n",
      "\u001b[0m\n",
      "ipdb> c\n"
     ]
    }
   ],
   "source": [
    "test.scrape_planet_properties()\n",
    "test.run_all_calculations(verbose=True)"
   ]
  },
  {
   "cell_type": "code",
   "execution_count": 17,
   "metadata": {},
   "outputs": [
    {
     "data": {
      "text/plain": [
       "(26.979811553019406, nan)"
      ]
     },
     "execution_count": 17,
     "metadata": {},
     "output_type": "execute_result"
    }
   ],
   "source": [
    "test.ESM, test.TSM"
   ]
  },
  {
   "cell_type": "code",
   "execution_count": 18,
   "metadata": {},
   "outputs": [
    {
     "data": {
      "text/plain": [
       "{'canonical_name': 'WASP-182 b',\n",
       " 'exoplanetID': 53617,\n",
       " 'catalog_name': 'nexsci',\n",
       " 'planet_name': 'WASP-182 b',\n",
       " 'disposition': 'confirmed planet',\n",
       " 'modified_date': '2020-04-10 19:57:56.255000',\n",
       " 'star_name': 'WASP-182',\n",
       " 'component': 'b',\n",
       " 'Rs': 1.34,\n",
       " 'Rs_unit': 'R_sun',\n",
       " 'Rs_upper': 0.03,\n",
       " 'Rs_lower': 0.03,\n",
       " 'Rs_ref': 'Nielsen et al. 2019',\n",
       " 'Rs_url': 'https://ui.adsabs.harvard.edu/abs/2019arXiv190410388N/abstract',\n",
       " 'Ms': 1.08,\n",
       " 'Ms_unit': 'M_sun',\n",
       " 'Ms_upper': 0.06,\n",
       " 'Ms_lower': 0.06,\n",
       " 'Ms_ref': 'Nielsen et al. 2019',\n",
       " 'Ms_url': 'https://ui.adsabs.harvard.edu/abs/2019arXiv190410388N/abstract',\n",
       " 'Fe/H': 0.27,\n",
       " 'Fe/H_upper': 0.11,\n",
       " 'Fe/H_lower': 0.11,\n",
       " 'Fe/H_ref': 'Nielsen et al. 2019',\n",
       " 'Fe/H_url': 'https://ui.adsabs.harvard.edu/abs/2019arXiv190410388N/abstract',\n",
       " 'stellar_gravity': 4.22,\n",
       " 'stellar_gravity_upper': 0.03,\n",
       " 'stellar_gravity_lower': 0.03,\n",
       " 'stellar_gravity_ref': 'Nielsen et al. 2019',\n",
       " 'stellar_gravity_url': 'https://ui.adsabs.harvard.edu/abs/2019arXiv190410388N/abstract',\n",
       " 'Teff': 5638.0,\n",
       " 'Teff_unit': 'K',\n",
       " 'Teff_upper': 100.0,\n",
       " 'Teff_lower': 100.0,\n",
       " 'Teff_ref': 'Nielsen et al. 2019',\n",
       " 'Teff_url': 'https://ui.adsabs.harvard.edu/abs/2019arXiv190410388N/abstract',\n",
       " 'Vmag': nan,\n",
       " 'Vmag_unit': nan,\n",
       " 'Vmag_upper': nan,\n",
       " 'Vmag_lower': nan,\n",
       " 'Vmag_ref': nan,\n",
       " 'Vmag_url': nan,\n",
       " 'Jmag': nan,\n",
       " 'Jmag_unit': nan,\n",
       " 'Jmag_upper': nan,\n",
       " 'Jmag_lower': nan,\n",
       " 'Jmag_ref': nan,\n",
       " 'Jmag_url': nan,\n",
       " 'Hmag': nan,\n",
       " 'Hmag_unit': nan,\n",
       " 'Hmag_upper': nan,\n",
       " 'Hmag_lower': nan,\n",
       " 'Hmag_ref': nan,\n",
       " 'Hmag_url': nan,\n",
       " 'Kmag': 10.431,\n",
       " 'Kmag_unit': 'mag',\n",
       " 'Kmag_upper': nan,\n",
       " 'Kmag_lower': nan,\n",
       " 'Kmag_ref': nan,\n",
       " 'Kmag_url': nan,\n",
       " 'RA': 311.67325,\n",
       " 'DEC': -41.820889,\n",
       " 'distance': 330.64,\n",
       " 'distance_unit': 'pc',\n",
       " 'distance_upper': 4.58,\n",
       " 'distance_lower': 4.58,\n",
       " 'distance_ref': 'Gaia DR2',\n",
       " 'distance_url': 'https://ui.adsabs.harvard.edu/abs/2018arXiv180409365G/abstract',\n",
       " 'Rp': 0.85,\n",
       " 'Rp_unit': 'R_Jupiter',\n",
       " 'Rp_upper': 0.03,\n",
       " 'Rp_lower': 0.03,\n",
       " 'Rp_ref': nan,\n",
       " 'Rp_url': nan,\n",
       " 'Mp': 0.148,\n",
       " 'Mp_unit': 'M_Jupiter',\n",
       " 'Mp_upper': 0.011,\n",
       " 'Mp_lower': 0.011,\n",
       " 'Mp_ref': 'Nielsen et al. 2019',\n",
       " 'Mp_url': 'https://ui.adsabs.harvard.edu/abs/2019arXiv190410388N/abstract',\n",
       " 'Tp': 1481.91,\n",
       " 'Tp_unit': 'K',\n",
       " 'Tp_upper': 34.0,\n",
       " 'Tp_lower': 34.0,\n",
       " 'Tp_ref': 'Calculated',\n",
       " 'Tp_url': 'https://ui.adsabs.harvard.edu/abs/2019arXiv190410388N/abstract',\n",
       " 'surface_gravity': 2.705639411369673,\n",
       " 'surface_gravity_unit': nan,\n",
       " 'surface_gravity_upper': nan,\n",
       " 'surface_gravity_lower': nan,\n",
       " 'surface_gravity_ref': 'Calculated',\n",
       " 'surface_gravity_url': nan,\n",
       " 'orbital_period': 3.3769848,\n",
       " 'orbital_period_unit': 'd',\n",
       " 'orbital_period_upper': 2.4e-06,\n",
       " 'orbital_period_lower': 2.4e-06,\n",
       " 'orbital_period_ref': 'Nielsen et al. 2019',\n",
       " 'orbital_period_url': 'https://ui.adsabs.harvard.edu/abs/2019arXiv190410388N/abstract',\n",
       " 'orbital_distance': 0.0451,\n",
       " 'orbital_distance_unit': 'AU',\n",
       " 'orbital_distance_upper': 0.0009,\n",
       " 'orbital_distance_lower': 0.0009,\n",
       " 'orbital_distance_ref': 'Nielsen et al. 2019',\n",
       " 'orbital_distance_url': 'https://ui.adsabs.harvard.edu/abs/2019arXiv190410388N/abstract',\n",
       " 'inclination': nan,\n",
       " 'inclination_unit': nan,\n",
       " 'inclination_upper': nan,\n",
       " 'inclination_lower': nan,\n",
       " 'inclination_ref': nan,\n",
       " 'inclination_url': nan,\n",
       " 'eccentricity': 0.0,\n",
       " 'eccentricity_unit': nan,\n",
       " 'eccentricity_upper': nan,\n",
       " 'eccentricity_lower': nan,\n",
       " 'eccentricity_ref': 'Nielsen et al. 2019',\n",
       " 'eccentricity_url': 'https://ui.adsabs.harvard.edu/abs/2019arXiv190410388N/abstract',\n",
       " 'omega': nan,\n",
       " 'omega_unit': nan,\n",
       " 'omega_upper': nan,\n",
       " 'omega_lower': nan,\n",
       " 'omega_ref': nan,\n",
       " 'omega_url': nan,\n",
       " 'transit_duration': 0.1082,\n",
       " 'transit_duration_unit': 'd',\n",
       " 'transit_duration_upper': 0.0015,\n",
       " 'transit_duration_lower': 0.0015,\n",
       " 'transit_duration_ref': 'Nielsen et al. 2019',\n",
       " 'transit_duration_url': 'https://ui.adsabs.harvard.edu/abs/2019arXiv190410388N/abstract',\n",
       " 'transit_time': 58018.16019999981,\n",
       " 'transit_time_unit': 'MJD',\n",
       " 'transit_time_upper': 0.00067,\n",
       " 'transit_time_lower': 0.00067,\n",
       " 'transit_time_ref': 'Nielsen et al. 2019',\n",
       " 'transit_time_url': 'https://ui.adsabs.harvard.edu/abs/2019arXiv190410388N/abstract',\n",
       " 'a/Rs': 7.237276284135596,\n",
       " 'a/Rs_unit': nan,\n",
       " 'a/Rs_upper': nan,\n",
       " 'a/Rs_lower': nan,\n",
       " 'a/Rs_ref': 'Calculated',\n",
       " 'a/Rs_url': nan,\n",
       " 'Rp/Rs': 0.06518528530268022,\n",
       " 'Rp/Rs_unit': nan,\n",
       " 'Rp/Rs_upper': nan,\n",
       " 'Rp/Rs_lower': nan,\n",
       " 'Rp/Rs_ref': 'Calculated',\n",
       " 'Rp/Rs_url': nan,\n",
       " 'impact_parameter': nan,\n",
       " 'impact_parameter_unit': nan,\n",
       " 'impact_parameter_upper': nan,\n",
       " 'impact_parameter_lower': nan,\n",
       " 'impact_parameter_ref': nan,\n",
       " 'impact_parameter_url': nan,\n",
       " 'transit_depth': 0.004249121419991818,\n",
       " 'transit_depth_unit': nan,\n",
       " 'transit_depth_upper': nan,\n",
       " 'transit_depth_lower': nan,\n",
       " 'transit_depth_ref': 'Calculated from Rp/Rs',\n",
       " 'transit_depth_url': nan,\n",
       " 'constellation': 'Microscopium',\n",
       " 'Tmag': nan,\n",
       " 'Tmag_unit': nan,\n",
       " 'Tmag_upper': nan,\n",
       " 'Tmag_lower': nan,\n",
       " 'Tmag_ref': nan,\n",
       " 'Tmag_url': nan,\n",
       " 'SNR': nan,\n",
       " 'SNR_unit': nan,\n",
       " 'SNR_upper': nan,\n",
       " 'SNR_lower': nan,\n",
       " 'SNR_ref': nan,\n",
       " 'SNR_url': nan,\n",
       " 'snr_emission_15': 0.05181933380622716,\n",
       " 'snr_emission_5': 0.045060970779576597,\n",
       " 'snr_transmission_K': 0.1195303225398314,\n",
       " 'pmRA': 30.957,\n",
       " 'pmRA_upper': 0.0607527,\n",
       " 'pmRA_lower': 0.0607527,\n",
       " 'pmDec': -21.6496,\n",
       " 'pmDec_upper': 0.0436554,\n",
       " 'pmDec_lower': 0.0436554,\n",
       " 'pm_unit': 'mas/yr',\n",
       " 'pm_ref': 'TESS Input Catalog, v8.2: gaia2',\n",
       " 'pm_url': nan,\n",
       " 'dayside_temperature': 1762.3,\n",
       " 'transit_flag': True}"
      ]
     },
     "execution_count": 18,
     "metadata": {},
     "output_type": "execute_result"
    }
   ],
   "source": [
    "test.planet_properties"
   ]
  },
  {
   "cell_type": "code",
   "execution_count": 10,
   "metadata": {},
   "outputs": [],
   "source": [
    "# how do I account for multiple planets?\n",
    "# how do I account for missing photometry for TSM, ESM?\n",
    "# need error bars on ESM, TSM\n",
    "# how will I check that planet property units are correct?"
   ]
  }
 ],
 "metadata": {
  "kernelspec": {
   "display_name": "Python 3",
   "language": "python",
   "name": "python3"
  },
  "language_info": {
   "codemirror_mode": {
    "name": "ipython",
    "version": 3
   },
   "file_extension": ".py",
   "mimetype": "text/x-python",
   "name": "python",
   "nbconvert_exporter": "python",
   "pygments_lexer": "ipython3",
   "version": "3.7.6"
  }
 },
 "nbformat": 4,
 "nbformat_minor": 4
}
