{
 "cells": [
  {
   "cell_type": "code",
   "execution_count": 1,
   "metadata": {},
   "outputs": [],
   "source": [
    "from webb_scraping.target import Target\n",
    "from webb_scraping.calculations import *"
   ]
  },
  {
   "cell_type": "markdown",
   "metadata": {},
   "source": [
    "# A Recon example."
   ]
  },
  {
   "cell_type": "code",
   "execution_count": 2,
   "metadata": {},
   "outputs": [
    {
     "name": "stderr",
     "output_type": "stream",
     "text": [
      "Scraping arXiv: 100%|██████████| 6/6 [00:03<00:00,  1.81it/s]\n"
     ]
    },
    {
     "data": {
      "text/plain": [
       "(False, True)"
      ]
     },
     "execution_count": 2,
     "metadata": {},
     "output_type": "execute_result"
    }
   ],
   "source": [
    "test = Target('K2-18')\n",
    "test.scrape_all()\n",
    "test.webb_approved, test.hst_approved"
   ]
  },
  {
   "cell_type": "code",
   "execution_count": 3,
   "metadata": {},
   "outputs": [
    {
     "data": {
      "text/plain": [
       "['Gaia DR2 3910747531814692736',\n",
       " '2MASS J11301450+0735180',\n",
       " 'K2-18',\n",
       " 'EPIC 201912552',\n",
       " 'UCAC4 488-054338',\n",
       " 'PM J11302+0735']"
      ]
     },
     "execution_count": 3,
     "metadata": {},
     "output_type": "execute_result"
    }
   ],
   "source": [
    "test.aliases"
   ]
  },
  {
   "cell_type": "code",
   "execution_count": 4,
   "metadata": {},
   "outputs": [
    {
     "name": "stderr",
     "output_type": "stream",
     "text": [
      "Scraping arXiv: 100%|██████████| 5/5 [00:02<00:00,  2.29it/s]\n"
     ]
    },
    {
     "data": {
      "text/plain": [
       "(False, False)"
      ]
     },
     "execution_count": 4,
     "metadata": {},
     "output_type": "execute_result"
    }
   ],
   "source": [
    "thing = Target('K2-88')\n",
    "thing.scrape_all()\n",
    "thing.webb_approved, thing.hst_approved"
   ]
  },
  {
   "cell_type": "code",
   "execution_count": 5,
   "metadata": {},
   "outputs": [
    {
     "data": {
      "text/plain": [
       "['UCAC4 546-007395',\n",
       " 'Gaia DR2 56983706234931328',\n",
       " '2MASS J03390038+1907126',\n",
       " 'EPIC 210750726',\n",
       " 'K2-88']"
      ]
     },
     "execution_count": 5,
     "metadata": {},
     "output_type": "execute_result"
    }
   ],
   "source": [
    "thing.aliases"
   ]
  },
  {
   "cell_type": "code",
   "execution_count": 6,
   "metadata": {},
   "outputs": [
    {
     "data": {
      "text/plain": [
       "['https://arxiv.org/pdf/2003.12940',\n",
       " 'https://arxiv.org/pdf/2003.01486',\n",
       " 'https://arxiv.org/pdf/2001.06656',\n",
       " 'https://arxiv.org/pdf/2001.04532',\n",
       " 'https://arxiv.org/pdf/1911.12326',\n",
       " 'https://arxiv.org/pdf/1909.13527',\n",
       " 'https://arxiv.org/pdf/1908.08965',\n",
       " 'https://arxiv.org/pdf/1907.10620',\n",
       " 'https://arxiv.org/pdf/1904.11302',\n",
       " 'https://arxiv.org/pdf/1904.04627',\n",
       " 'https://arxiv.org/pdf/1903.00474',\n",
       " 'https://arxiv.org/pdf/1901.05855',\n",
       " 'https://arxiv.org/pdf/1811.06594',\n",
       " 'https://arxiv.org/pdf/1810.04731',\n",
       " 'https://arxiv.org/pdf/1810.04074',\n",
       " 'https://arxiv.org/pdf/1810.00006',\n",
       " 'https://arxiv.org/pdf/1809.11116',\n",
       " 'https://arxiv.org/pdf/1809.07403',\n",
       " 'https://arxiv.org/pdf/1808.07482',\n",
       " 'https://arxiv.org/pdf/1805.00830',\n",
       " 'https://arxiv.org/pdf/1804.07380',\n",
       " 'https://arxiv.org/pdf/1711.02098',\n",
       " 'https://arxiv.org/pdf/1707.04292',\n",
       " 'https://arxiv.org/pdf/1706.03858',\n",
       " 'https://arxiv.org/pdf/1703.07416',\n",
       " 'https://arxiv.org/pdf/1610.07249',\n",
       " 'https://arxiv.org/pdf/1608.07524',\n",
       " 'https://arxiv.org/pdf/1608.07198',\n",
       " 'https://arxiv.org/pdf/1606.08441',\n",
       " 'https://arxiv.org/pdf/1603.05998',\n",
       " 'https://arxiv.org/pdf/1503.07866',\n",
       " 'https://arxiv.org/pdf/1501.04416',\n",
       " 'https://arxiv.org/pdf/1412.5674',\n",
       " 'https://arxiv.org/pdf/1407.2306',\n",
       " 'https://arxiv.org/pdf/1112.4567',\n",
       " 'https://arxiv.org/pdf/1103.1263',\n",
       " 'https://arxiv.org/pdf/0711.4097',\n",
       " 'https://arxiv.org/pdf/0706.4331',\n",
       " 'https://arxiv.org/pdf/astro-ph/0302507']"
      ]
     },
     "execution_count": 6,
     "metadata": {},
     "output_type": "execute_result"
    }
   ],
   "source": [
    "test.arxiv_links"
   ]
  },
  {
   "cell_type": "code",
   "execution_count": null,
   "metadata": {},
   "outputs": [],
   "source": []
  }
 ],
 "metadata": {
  "kernelspec": {
   "display_name": "Python 3",
   "language": "python",
   "name": "python3"
  },
  "language_info": {
   "codemirror_mode": {
    "name": "ipython",
    "version": 3
   },
   "file_extension": ".py",
   "mimetype": "text/x-python",
   "name": "python",
   "nbconvert_exporter": "python",
   "pygments_lexer": "ipython3",
   "version": "3.7.6"
  }
 },
 "nbformat": 4,
 "nbformat_minor": 4
}
