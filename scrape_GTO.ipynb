{
 "cells": [
  {
   "cell_type": "code",
   "execution_count": 9,
   "metadata": {},
   "outputs": [],
   "source": [
    "import numpy as np\n",
    "import pandas as pd\n",
    "import requests\n",
    "from bs4 import BeautifulSoup\n",
    "from urllib.request import urlretrieve\n",
    "import re\n",
    "from tqdm import tqdm\n",
    "import os"
   ]
  },
  {
   "cell_type": "code",
   "execution_count": 10,
   "metadata": {},
   "outputs": [],
   "source": [
    "from pdfminer.pdfinterp import PDFResourceManager, PDFPageInterpreter\n",
    "from pdfminer.converter import TextConverter\n",
    "from pdfminer.layout import LAParams\n",
    "from pdfminer.pdfpage import PDFPage\n",
    "from io import StringIO\n",
    "\n",
    "def convert_pdf_to_txt(path):\n",
    "    rsrcmgr = PDFResourceManager()\n",
    "    retstr = StringIO()\n",
    "    codec = 'utf-8'\n",
    "    laparams = LAParams()\n",
    "    device = TextConverter(rsrcmgr, retstr, laparams=laparams)\n",
    "    fp = open(path, 'rb')\n",
    "    interpreter = PDFPageInterpreter(rsrcmgr, device)\n",
    "    password = \"\"\n",
    "    maxpages = 0\n",
    "    caching = True\n",
    "    pagenos=set()\n",
    "\n",
    "    for page in PDFPage.get_pages(fp, pagenos, maxpages=maxpages, password=password,caching=caching, check_extractable=True):\n",
    "        interpreter.process_page(page)\n",
    "\n",
    "    text = retstr.getvalue()\n",
    "\n",
    "    fp.close()\n",
    "    device.close()\n",
    "    retstr.close()\n",
    "    return text"
   ]
  },
  {
   "cell_type": "code",
   "execution_count": null,
   "metadata": {},
   "outputs": [
    {
     "name": "stderr",
     "output_type": "stream",
     "text": [
      " 86%|████████▌ | 103/120 [04:14<00:40,  2.36s/it]"
     ]
    }
   ],
   "source": [
    "URL = 'http://www.stsci.edu/jwst/observing-programs/approved-gto-programs'\n",
    "page = requests.get(URL)\n",
    "\n",
    "soup = BeautifulSoup(page.content, 'html.parser')\n",
    "\n",
    "all_targets = []\n",
    "\n",
    "gto_pages = []\n",
    "for link in soup.find_all('a'):\n",
    "    if link.has_attr('href'):\n",
    "        str_begin = '/jwst/observing-programs/program-information?id='\n",
    "        if link.attrs['href'][:48] == str_begin:\n",
    "            gto_page = 'http://www.stsci.edu/' + link.attrs['href'] # give better name\n",
    "            gto_pages.append(gto_page)\n",
    "            \n",
    "for gto_page in tqdm(gto_pages, position=0, leave=True):\n",
    "    ID = gto_page[-4:]\n",
    "    pdf_link = f'http://www.stsci.edu/jwst/phase2-public/{ID}.pdf'\n",
    "    link = 'http://www.stsci.edu/jwst/phase2-public/1243.pdf'\n",
    "    urlretrieve(link, \"tmp.pdf\")\n",
    "    text = convert_pdf_to_txt(\"tmp.pdf\")\n",
    "    start = text.find(\"Science Target\") + len(\"Science Target\")\n",
    "    end =text.find(\"ABSTRACT\")\n",
    "    target_table = text[start:end]\n",
    "    targets_numbered = re.sub(\"\\n\", \"\", target_table)\n",
    "    target_concat = re.sub(\"[\\(\\[].*?[\\)\\]]\", \"\", targets_numbered)\n",
    "    targets = target_concat.split(' ')\n",
    "    targets = [t for t in targets if len(t) > 0]\n",
    "    all_targets.append(targets)\n",
    "    os.remove('tmp.pdf')"
   ]
  },
  {
   "cell_type": "code",
   "execution_count": null,
   "metadata": {},
   "outputs": [],
   "source": []
  }
 ],
 "metadata": {
  "kernelspec": {
   "display_name": "Python 3",
   "language": "python",
   "name": "python3"
  },
  "language_info": {
   "codemirror_mode": {
    "name": "ipython",
    "version": 3
   },
   "file_extension": ".py",
   "mimetype": "text/x-python",
   "name": "python",
   "nbconvert_exporter": "python",
   "pygments_lexer": "ipython3",
   "version": "3.7.6"
  }
 },
 "nbformat": 4,
 "nbformat_minor": 4
}
